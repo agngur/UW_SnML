{
 "cells": [
  {
   "cell_type": "code",
   "execution_count": 2,
   "metadata": {},
   "outputs": [],
   "source": [
    "# Statistics and Machine Learning\n",
    "# FUW mondays 1.15 pm\n",
    "\n",
    "import numpy as np"
   ]
  },
  {
   "cell_type": "code",
   "execution_count": 10,
   "metadata": {},
   "outputs": [
    {
     "data": {
      "text/plain": [
       "array([[1, 2, 3],\n",
       "       [4, 5, 6],\n",
       "       [7, 8, 9]])"
      ]
     },
     "execution_count": 10,
     "metadata": {},
     "output_type": "execute_result"
    }
   ],
   "source": [
    "A = np.array([[1,2,3],[4,5,6],[7,8,9]])\n",
    "A"
   ]
  },
  {
   "cell_type": "code",
   "execution_count": 41,
   "metadata": {},
   "outputs": [
    {
     "name": "stdout",
     "output_type": "stream",
     "text": [
      "[[1 3]\n",
      " [7 9]]\n"
     ]
    }
   ],
   "source": [
    "# how to print all numbers in row\n",
    "\n",
    "'''\n",
    "names:\n",
    "axis 0 == columns y\n",
    "axis 1 == rows x\n",
    "\n",
    "'''\n",
    "print(A[::2,::2])"
   ]
  },
  {
   "cell_type": "code",
   "execution_count": 47,
   "metadata": {},
   "outputs": [
    {
     "data": {
      "text/plain": [
       "array([1, 3, 7, 9])"
      ]
     },
     "execution_count": 47,
     "metadata": {},
     "output_type": "execute_result"
    }
   ],
   "source": [
    "A[::2, [0,2]]\n",
    "A[[0,0,2,2],[0,2,0,2]]"
   ]
  },
  {
   "cell_type": "code",
   "execution_count": 59,
   "metadata": {},
   "outputs": [
    {
     "data": {
      "text/plain": [
       "array([[1, 3],\n",
       "       [7, 9]])"
      ]
     },
     "execution_count": 59,
     "metadata": {},
     "output_type": "execute_result"
    }
   ],
   "source": [
    "A[:,[0,2]][[0,2],:]"
   ]
  },
  {
   "cell_type": "code",
   "execution_count": 75,
   "metadata": {},
   "outputs": [
    {
     "ename": "SyntaxError",
     "evalue": "invalid syntax (<ipython-input-75-45cfb285eb7f>, line 1)",
     "output_type": "error",
     "traceback": [
      "\u001b[1;36m  File \u001b[1;32m\"<ipython-input-75-45cfb285eb7f>\"\u001b[1;36m, line \u001b[1;32m1\u001b[0m\n\u001b[1;33m    A[[0], [True, False, True]][[:,2]]\u001b[0m\n\u001b[1;37m                                 ^\u001b[0m\n\u001b[1;31mSyntaxError\u001b[0m\u001b[1;31m:\u001b[0m invalid syntax\n"
     ]
    }
   ],
   "source": [
    "A[[0], [True, False, True]][[:,2]]"
   ]
  },
  {
   "cell_type": "code",
   "execution_count": 79,
   "metadata": {},
   "outputs": [
    {
     "data": {
      "text/plain": [
       "array([[0., 1.],\n",
       "       [2., 3.]])"
      ]
     },
     "execution_count": 79,
     "metadata": {},
     "output_type": "execute_result"
    }
   ],
   "source": [
    "# zad2\n",
    "a = np.array([[0.,1.],[2.,3.]])\n",
    "a"
   ]
  },
  {
   "cell_type": "code",
   "execution_count": 81,
   "metadata": {},
   "outputs": [
    {
     "name": "stdout",
     "output_type": "stream",
     "text": [
      "[[0. 2.]\n",
      " [4. 6.]]\n",
      "[[0. 1.]\n",
      " [4. 9.]]\n"
     ]
    }
   ],
   "source": [
    "print(2*a)\n",
    "print(a**2)"
   ]
  },
  {
   "cell_type": "code",
   "execution_count": 85,
   "metadata": {},
   "outputs": [
    {
     "data": {
      "text/plain": [
       "array([[1.  , 0.75],\n",
       "       [0.25, 3.  ]])"
      ]
     },
     "execution_count": 85,
     "metadata": {},
     "output_type": "execute_result"
    }
   ],
   "source": [
    "b = np.array([[1., 0.75],[0.25, 3.]])\n",
    "b"
   ]
  },
  {
   "cell_type": "code",
   "execution_count": 99,
   "metadata": {},
   "outputs": [
    {
     "name": "stdout",
     "output_type": "stream",
     "text": [
      "[[1.   1.75]\n",
      " [2.25 6.  ]]\n",
      "[[0.   0.75]\n",
      " [0.5  9.  ]]\n",
      "[[False False]\n",
      " [False  True]]\n",
      "False\n",
      "False\n"
     ]
    }
   ],
   "source": [
    "print(a+b)\n",
    "print(a*b)\n",
    "\n",
    "# porównanie poszczególnych elementów macierzy\n",
    "print(a == b)\n",
    "\n",
    "# porównanie wszystkich elementów macierzy jako całości\n",
    "print((a == b).all())\n",
    "\n",
    "print(np.array_equal(a,b))\n"
   ]
  },
  {
   "cell_type": "code",
   "execution_count": 111,
   "metadata": {},
   "outputs": [
    {
     "name": "stdout",
     "output_type": "stream",
     "text": [
      "Wall time: 0 ns\n",
      "[5, 3, 7, 5]\n",
      "[5 3 7 5]\n"
     ]
    }
   ],
   "source": [
    "c = np.array([2,5,3,7,5,4])\n",
    "\n",
    "d = [x for x in c if x%2 == 1]\n",
    "print(d)\n",
    "\n",
    "# or in numpy style:\n",
    "d2 = c[c%2 == 1]\n",
    "print(d2)"
   ]
  },
  {
   "cell_type": "code",
   "execution_count": 116,
   "metadata": {},
   "outputs": [
    {
     "name": "stdout",
     "output_type": "stream",
     "text": [
      "6 6 (6,)\n",
      "2 4 (2, 2)\n"
     ]
    }
   ],
   "source": [
    "print(len(c), c.size, c.shape)\n",
    "print(len(a), a.size, a.shape)"
   ]
  },
  {
   "cell_type": "code",
   "execution_count": 126,
   "metadata": {},
   "outputs": [
    {
     "name": "stdout",
     "output_type": "stream",
     "text": [
      "<class 'list'>\n",
      "<class 'numpy.ndarray'>\n",
      "[[1 2]\n",
      " [3 4]\n",
      " [5 6]]\n",
      "[[1 2 3]\n",
      " [4 5 6]]\n"
     ]
    }
   ],
   "source": [
    "e = [[1,2,3],[4,5,6]]\n",
    "print(type(e))\n",
    "\n",
    "e = np.array([[1,2,3],[4,5,6]])\n",
    "print(type(e))\n",
    "\n",
    "e.resize(3,2)\n",
    "print(e)\n",
    "\n",
    "f = e.reshape(2,3)\n",
    "print(f)"
   ]
  },
  {
   "cell_type": "code",
   "execution_count": 157,
   "metadata": {},
   "outputs": [
    {
     "name": "stdout",
     "output_type": "stream",
     "text": [
      "(3,)\n",
      "(1, 3)\n",
      "(3, 1)\n",
      "[[1 2 3]]\n",
      "[[1]\n",
      " [2]\n",
      " [3]]\n",
      "[1 2 3]\n",
      "[1 2 3]\n"
     ]
    }
   ],
   "source": [
    "g = np.array([1,2,3])\n",
    "print(g.shape)  # zwraca krotkę postaci (x,)\n",
    "\n",
    "h = g.reshape(1,3)\n",
    "print(h.shape)  # zdegenerowana tablica 2dim\n",
    "\n",
    "i = g.reshape(3,1)\n",
    "print(i.shape)\n",
    "\n",
    "print(g[np.newaxis, :])\n",
    "print(g[:, np.newaxis])\n",
    "\n",
    "print(g)\n",
    "print(g.transpose()) # wtf ?!"
   ]
  },
  {
   "cell_type": "code",
   "execution_count": 172,
   "metadata": {},
   "outputs": [
    {
     "name": "stdout",
     "output_type": "stream",
     "text": [
      "reference\n",
      "[10 20  3  4]\n",
      "[10 20  3  4]\n",
      "True\n",
      "[100 200   3   4]\n",
      "[[100 200]\n",
      " [  3   4]]\n",
      "False\n"
     ]
    }
   ],
   "source": [
    "# new exercise\n",
    "\n",
    "print(\"reference\")\n",
    "a = np.array([1,2,3,4])\n",
    "b = a     # b jest referencją tablicy a\n",
    "a[0] = 10\n",
    "b[1] = 20\n",
    "\n",
    "print(a)\n",
    "print(b)\n",
    "print(a is b)  # check: czy to jest ten sam **obiekt**\n",
    "\n",
    "b = a.reshape(2,2)\n",
    "a[0] = 100\n",
    "b[0,1] = 200\n",
    "print(a)\n",
    "print(b)\n",
    "print(a is b)  # check: b jest **widokiem tablicy a**\n",
    "\n",
    "# zawartość tablicy a siedzi w pamięci tylko raz; b jest tylko WIDOKIEM (view) tejże tablicy"
   ]
  },
  {
   "cell_type": "code",
   "execution_count": 180,
   "metadata": {},
   "outputs": [
    {
     "name": "stdout",
     "output_type": "stream",
     "text": [
      "False\n",
      "True\n",
      "False\n"
     ]
    }
   ],
   "source": [
    "c = a          # tworzymy referencję do tablicy a\n",
    "d = a.view()   # tworzymy widok tablicy a\n",
    "print(c is d)\n",
    "print(c is a)\n",
    "print(d is a)\n",
    "\n"
   ]
  },
  {
   "cell_type": "code",
   "execution_count": 189,
   "metadata": {},
   "outputs": [
    {
     "name": "stdout",
     "output_type": "stream",
     "text": [
      "False\n",
      "False\n"
     ]
    }
   ],
   "source": [
    "# tworzenie kopii\n",
    "\n",
    "g = 1*a\n",
    "print(g is a)\n",
    "\n",
    "h = a.copy()\n",
    "print(h is a)"
   ]
  },
  {
   "cell_type": "code",
   "execution_count": 190,
   "metadata": {},
   "outputs": [
    {
     "name": "stdout",
     "output_type": "stream",
     "text": [
      "\f",
      "\n"
     ]
    }
   ],
   "source": [
    "%clear"
   ]
  },
  {
   "cell_type": "code",
   "execution_count": 205,
   "metadata": {},
   "outputs": [
    {
     "name": "stdout",
     "output_type": "stream",
     "text": [
      "[10 11 12]\n"
     ]
    }
   ],
   "source": [
    "# broadcast\n",
    "a = np.array([10])\n",
    "b = np.array([0,1,2])\n",
    "print(a+b)"
   ]
  },
  {
   "cell_type": "code",
   "execution_count": 210,
   "metadata": {},
   "outputs": [
    {
     "name": "stdout",
     "output_type": "stream",
     "text": [
      "[[11 22]\n",
      " [13 24]]\n"
     ]
    }
   ],
   "source": [
    "# broadcast (1,2) to (2,2)\n",
    "a = np.array([10, 20])\n",
    "b = np.array([[1,2],[3,4]])\n",
    "print(a+b)"
   ]
  },
  {
   "cell_type": "code",
   "execution_count": 213,
   "metadata": {},
   "outputs": [
    {
     "name": "stdout",
     "output_type": "stream",
     "text": [
      "[[11 22]\n",
      " [13 24]]\n"
     ]
    }
   ],
   "source": [
    "#same effect\n",
    "a = np.array([[10, 20]])\n",
    "b = np.array([[1,2],[3,4]])\n",
    "print(a+b)"
   ]
  },
  {
   "cell_type": "code",
   "execution_count": 214,
   "metadata": {},
   "outputs": [
    {
     "name": "stdout",
     "output_type": "stream",
     "text": [
      "[[11 12]\n",
      " [23 24]]\n"
     ]
    }
   ],
   "source": [
    "# broadcast (2,1) to (2,2)\n",
    "a = np.array([10, 20])\n",
    "b = np.array([[1,2],[3,4]])\n",
    "print(a.reshape(2,1)+b)"
   ]
  },
  {
   "cell_type": "code",
   "execution_count": 222,
   "metadata": {},
   "outputs": [
    {
     "name": "stdout",
     "output_type": "stream",
     "text": [
      "[[11 12]\n",
      " [23 24]]\n"
     ]
    }
   ],
   "source": [
    "a = np.array([10, 20])\n",
    "b = np.array([[1,2],[3,4]])\n",
    "print(a[:, np.newaxis] + b)"
   ]
  },
  {
   "cell_type": "code",
   "execution_count": 236,
   "metadata": {},
   "outputs": [
    {
     "name": "stdout",
     "output_type": "stream",
     "text": [
      "[[10 20 30]\n",
      " [20 40 60]]\n"
     ]
    }
   ],
   "source": [
    "# new exercise\n",
    "a = np.array([1,2])\n",
    "b = np.array([10,20,30])\n",
    "print(a[:,np.newaxis]*b)\n",
    "#print(a*b[:,np.newaxis])"
   ]
  },
  {
   "cell_type": "code",
   "execution_count": 231,
   "metadata": {},
   "outputs": [
    {
     "name": "stdout",
     "output_type": "stream",
     "text": [
      "[[ 4  5]\n",
      " [ 8 10]\n",
      " [12 15]]\n"
     ]
    }
   ],
   "source": [
    "a = np.array([1,2,3])\n",
    "b = np.array([4,5])\n",
    "print(a[:,np.newaxis]*b)"
   ]
  },
  {
   "cell_type": "code",
   "execution_count": 242,
   "metadata": {},
   "outputs": [
    {
     "name": "stdout",
     "output_type": "stream",
     "text": [
      "transposing (2,3) gives (3,2)\n",
      "[[1 2 3]\n",
      " [4 5 6]]\n",
      "[[1 4]\n",
      " [2 5]\n",
      " [3 6]]\n",
      "[[1 4]\n",
      " [2 5]\n",
      " [3 6]]\n"
     ]
    }
   ],
   "source": [
    "## New \n",
    "print(\"transposing (2,3) gives (3,2)\")\n",
    "a = np.array([[1,2,3],[4,5,6]])\n",
    "print(a)\n",
    "print(a.transpose())\n",
    "print(a.T)"
   ]
  },
  {
   "cell_type": "code",
   "execution_count": 246,
   "metadata": {},
   "outputs": [
    {
     "name": "stdout",
     "output_type": "stream",
     "text": [
      "[1 2 3]\n",
      "[[1]\n",
      " [2]\n",
      " [3]]\n"
     ]
    }
   ],
   "source": [
    "# transpozycja macierzy jednowymiarowych nic nie zmienia\n",
    "b = np.array([1,2,3])\n",
    "print(b.T)   \n",
    "# transpozycja zdegenerowanej macierzy dwuwymiarowej\n",
    "b = np.array([[1,2,3]])\n",
    "print(b.T)  "
   ]
  },
  {
   "cell_type": "code",
   "execution_count": 247,
   "metadata": {},
   "outputs": [
    {
     "name": "stdout",
     "output_type": "stream",
     "text": [
      "[[ 38  44  50  56]\n",
      " [ 83  98 113 128]]\n",
      "[[ 38  44  50  56]\n",
      " [ 83  98 113 128]]\n",
      "[[ 38  44  50  56]\n",
      " [ 83  98 113 128]]\n"
     ]
    }
   ],
   "source": [
    "a = np.array([[1,2,3],[4,5,6]])\n",
    "b = np.array([[1,2,3,4],[5,6,7,8],[9,10,11,12]])\n",
    "\n",
    "print(np.dot(a,b))    #deprecated\n",
    "print(np.matmul(a,b))\n",
    "print(a @ b)"
   ]
  },
  {
   "cell_type": "code",
   "execution_count": 249,
   "metadata": {},
   "outputs": [
    {
     "name": "stdout",
     "output_type": "stream",
     "text": [
      "[17. 39.]\n",
      "[23. 34.]\n"
     ]
    }
   ],
   "source": [
    "a = np.array([[1.,2.],[3.,4.]])\n",
    "b = np.array([5., 6.])\n",
    "print(a @ b)\n",
    "print(b @ a)"
   ]
  },
  {
   "cell_type": "code",
   "execution_count": 260,
   "metadata": {},
   "outputs": [
    {
     "name": "stdout",
     "output_type": "stream",
     "text": [
      "\n",
      "a = [[[ 0  1  2  3]\n",
      "  [ 4  5  6  7]\n",
      "  [ 8  9 10 11]]\n",
      "\n",
      " [[12 13 14 15]\n",
      "  [16 17 18 19]\n",
      "  [20 21 22 23]]]\n",
      "b = [0 1 2 3]\n",
      "\n",
      "shape:  (2, 3)\n",
      "\n",
      " [[ 14  38  62]\n",
      " [ 86 110 134]]\n"
     ]
    }
   ],
   "source": [
    "a = np.arange(2*3*4).reshape(2,3,4)\n",
    "b = np.arange(4)\n",
    "print(\"\\na = {}\\nb = {}\".format(a,b))\n",
    "print(\"\\nshape: \", (a @ b).shape)\n",
    "print(\"\\n\", a @ b)"
   ]
  },
  {
   "cell_type": "code",
   "execution_count": 2,
   "metadata": {},
   "outputs": [],
   "source": [
    "import matplotlib.pyplot as plt\n",
    "import numpy as np"
   ]
  },
  {
   "cell_type": "code",
   "execution_count": 7,
   "metadata": {},
   "outputs": [
    {
     "data": {
      "image/png": "[encoded data removed]",
      "text/plain": [
       "<Figure size 432x288 with 1 Axes>"
      ]
     },
     "metadata": {},
     "output_type": "display_data"
    },
    {
     "data": {
      "image/png": "[encoded data removed]",
      "text/plain": [
       "<Figure size 432x288 with 1 Axes>"
      ]
     },
     "metadata": {},
     "output_type": "display_data"
    }
   ],
   "source": [
    "\n",
    "x1 = np.array([1,2,3,5,8])\n",
    "y1 = np.array([6,9,7,8,7])\n",
    "plt.plot(x1, y1, 'b.')\n",
    "plt.show()\n",
    "\n",
    "def f(x):\n",
    "    return np.cos(3/4 * np.pi + x)\n",
    "\n",
    "x = np.linspace(1., 8., 103)\n",
    "plt.plot(x, f(x))\n",
    "plt.show()"
   ]
  },
  {
   "cell_type": "code",
   "execution_count": 10,
   "metadata": {},
   "outputs": [
    {
     "data": {
      "text/plain": [
       "array([[1. , 2. , 4.1, 6.7],\n",
       "       [3.5, 7.9, 3.2, 1.2],\n",
       "       [2. , 4. , 5. , 8. ],\n",
       "       [8. , 7. , 3.5, 1.5],\n",
       "       [3.1, 2.7, 4.6, 9.9]])"
      ]
     },
     "execution_count": 10,
     "metadata": {},
     "output_type": "execute_result"
    }
   ],
   "source": [
    "tab = np.loadtxt(\"ML_file.txt\")\n",
    "tab"
   ]
  },
  {
   "cell_type": "code",
   "execution_count": 15,
   "metadata": {},
   "outputs": [
    {
     "data": {
      "image/png": "[encoded data removed]",
      "text/plain": [
       "<Figure size 432x288 with 1 Axes>"
      ]
     },
     "metadata": {},
     "output_type": "display_data"
    }
   ],
   "source": [
    "plt.plot(tab[1],tab[0], \"m+\")\n",
    "plt.xlabel(r\"$Log_{Teff}$\")\n",
    "plt.show()"
   ]
  },
  {
   "cell_type": "code",
   "execution_count": null,
   "metadata": {},
   "outputs": [],
   "source": []
  }
 ],
 "metadata": {
  "kernelspec": {
   "display_name": "Python 3",
   "language": "python",
   "name": "python3"
  },
  "language_info": {
   "codemirror_mode": {
    "name": "ipython",
    "version": 3
   },
   "file_extension": ".py",
   "mimetype": "text/x-python",
   "name": "python",
   "nbconvert_exporter": "python",
   "pygments_lexer": "ipython3",
   "version": "3.6.5"
  }
 },
 "nbformat": 4,
 "nbformat_minor": 2
}
